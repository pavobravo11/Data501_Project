{
 "cells": [
  {
   "cell_type": "code",
   "execution_count": 38,
   "metadata": {},
   "outputs": [],
   "source": [
    "from requests import get\n",
    "import pandas as pd"
   ]
  },
  {
   "cell_type": "code",
   "execution_count": 39,
   "metadata": {},
   "outputs": [],
   "source": [
    "europe_all = get(\"https://restcountries.com/v3.1/region/europe\").json()"
   ]
  },
  {
   "cell_type": "code",
   "execution_count": 40,
   "metadata": {},
   "outputs": [],
   "source": [
    "europe_countries_set = set()\n",
    "for i in europe_all:\n",
    "    europe_countries_set.add((i['name']['common'], i['subregion'], i['population']))"
   ]
  },
  {
   "cell_type": "code",
   "execution_count": 41,
   "metadata": {},
   "outputs": [],
   "source": [
    "europe_countries_df = pd.DataFrame(europe_countries_set, columns=['name', 'subregion', 'population'])\\\n",
    "                        .sort_values('name')"
   ]
  },
  {
   "cell_type": "code",
   "execution_count": 42,
   "metadata": {},
   "outputs": [],
   "source": [
    "# Where population is over 100,000\n",
    "over_100k_pop = europe_countries_df[europe_countries_df['population'] > 100000].reset_index(drop=True)"
   ]
  },
  {
   "cell_type": "code",
   "execution_count": 43,
   "metadata": {},
   "outputs": [
    {
     "data": {
      "text/html": [
       "<div>\n",
       "<style scoped>\n",
       "    .dataframe tbody tr th:only-of-type {\n",
       "        vertical-align: middle;\n",
       "    }\n",
       "\n",
       "    .dataframe tbody tr th {\n",
       "        vertical-align: top;\n",
       "    }\n",
       "\n",
       "    .dataframe thead th {\n",
       "        text-align: right;\n",
       "    }\n",
       "</style>\n",
       "<table border=\"1\" class=\"dataframe\">\n",
       "  <thead>\n",
       "    <tr style=\"text-align: right;\">\n",
       "      <th></th>\n",
       "      <th>name</th>\n",
       "      <th>subregion</th>\n",
       "      <th>population</th>\n",
       "    </tr>\n",
       "  </thead>\n",
       "  <tbody>\n",
       "    <tr>\n",
       "      <th>0</th>\n",
       "      <td>Albania</td>\n",
       "      <td>Southeast Europe</td>\n",
       "      <td>2837743</td>\n",
       "    </tr>\n",
       "    <tr>\n",
       "      <th>1</th>\n",
       "      <td>Austria</td>\n",
       "      <td>Central Europe</td>\n",
       "      <td>8917205</td>\n",
       "    </tr>\n",
       "    <tr>\n",
       "      <th>2</th>\n",
       "      <td>Belarus</td>\n",
       "      <td>Eastern Europe</td>\n",
       "      <td>9398861</td>\n",
       "    </tr>\n",
       "    <tr>\n",
       "      <th>3</th>\n",
       "      <td>Belgium</td>\n",
       "      <td>Western Europe</td>\n",
       "      <td>11555997</td>\n",
       "    </tr>\n",
       "    <tr>\n",
       "      <th>4</th>\n",
       "      <td>Bosnia and Herzegovina</td>\n",
       "      <td>Southeast Europe</td>\n",
       "      <td>3280815</td>\n",
       "    </tr>\n",
       "  </tbody>\n",
       "</table>\n",
       "</div>"
      ],
      "text/plain": [
       "                     name         subregion  population\n",
       "0                 Albania  Southeast Europe     2837743\n",
       "1                 Austria    Central Europe     8917205\n",
       "2                 Belarus    Eastern Europe     9398861\n",
       "3                 Belgium    Western Europe    11555997\n",
       "4  Bosnia and Herzegovina  Southeast Europe     3280815"
      ]
     },
     "execution_count": 43,
     "metadata": {},
     "output_type": "execute_result"
    }
   ],
   "source": [
    "over_100k_pop.sort_values('name').head()"
   ]
  },
  {
   "cell_type": "code",
   "execution_count": 44,
   "metadata": {},
   "outputs": [
    {
     "data": {
      "text/html": [
       "<div>\n",
       "<style scoped>\n",
       "    .dataframe tbody tr th:only-of-type {\n",
       "        vertical-align: middle;\n",
       "    }\n",
       "\n",
       "    .dataframe tbody tr th {\n",
       "        vertical-align: top;\n",
       "    }\n",
       "\n",
       "    .dataframe thead th {\n",
       "        text-align: right;\n",
       "    }\n",
       "</style>\n",
       "<table border=\"1\" class=\"dataframe\">\n",
       "  <thead>\n",
       "    <tr style=\"text-align: right;\">\n",
       "      <th></th>\n",
       "      <th>name</th>\n",
       "      <th>subregion</th>\n",
       "      <th>population</th>\n",
       "    </tr>\n",
       "  </thead>\n",
       "  <tbody>\n",
       "    <tr>\n",
       "      <th>37</th>\n",
       "      <td>Spain</td>\n",
       "      <td>Southern Europe</td>\n",
       "      <td>47351567</td>\n",
       "    </tr>\n",
       "    <tr>\n",
       "      <th>38</th>\n",
       "      <td>Sweden</td>\n",
       "      <td>Northern Europe</td>\n",
       "      <td>10353442</td>\n",
       "    </tr>\n",
       "    <tr>\n",
       "      <th>39</th>\n",
       "      <td>Switzerland</td>\n",
       "      <td>Western Europe</td>\n",
       "      <td>8654622</td>\n",
       "    </tr>\n",
       "    <tr>\n",
       "      <th>40</th>\n",
       "      <td>Ukraine</td>\n",
       "      <td>Eastern Europe</td>\n",
       "      <td>44134693</td>\n",
       "    </tr>\n",
       "    <tr>\n",
       "      <th>41</th>\n",
       "      <td>United Kingdom</td>\n",
       "      <td>Northern Europe</td>\n",
       "      <td>67215293</td>\n",
       "    </tr>\n",
       "  </tbody>\n",
       "</table>\n",
       "</div>"
      ],
      "text/plain": [
       "              name        subregion  population\n",
       "37           Spain  Southern Europe    47351567\n",
       "38          Sweden  Northern Europe    10353442\n",
       "39     Switzerland   Western Europe     8654622\n",
       "40         Ukraine   Eastern Europe    44134693\n",
       "41  United Kingdom  Northern Europe    67215293"
      ]
     },
     "execution_count": 44,
     "metadata": {},
     "output_type": "execute_result"
    }
   ],
   "source": [
    "# Top 5 biggest countries in terms of population\n",
    "over_100k_pop.tail()"
   ]
  },
  {
   "cell_type": "code",
   "execution_count": 46,
   "metadata": {},
   "outputs": [],
   "source": [
    "# Now import the EU list of countries (as well as other EU association from the european comission excel)\n",
    "# Downloaded from the european comission website https://commission.europa.eu/index_en\n",
    "european_comission = pd.read_excel(\"Country_Codes_and_Names.xlsx\", sheet_name=\"Sheet1\")"
   ]
  },
  {
   "cell_type": "code",
   "execution_count": 47,
   "metadata": {},
   "outputs": [],
   "source": [
    "# Remove any brackets from the country name column\n",
    "# Removes any space followed by a bracket followed by any character 0 or many times followed by another bracket\n",
    "european_comission['COUNTRY NAME'] = european_comission['COUNTRY NAME'].replace(to_replace = ' (.*)', value = '', regex = True)"
   ]
  },
  {
   "cell_type": "code",
   "execution_count": 48,
   "metadata": {},
   "outputs": [
    {
     "data": {
      "text/html": [
       "<div>\n",
       "<style scoped>\n",
       "    .dataframe tbody tr th:only-of-type {\n",
       "        vertical-align: middle;\n",
       "    }\n",
       "\n",
       "    .dataframe tbody tr th {\n",
       "        vertical-align: top;\n",
       "    }\n",
       "\n",
       "    .dataframe thead th {\n",
       "        text-align: right;\n",
       "    }\n",
       "</style>\n",
       "<table border=\"1\" class=\"dataframe\">\n",
       "  <thead>\n",
       "    <tr style=\"text-align: right;\">\n",
       "      <th></th>\n",
       "      <th>AREA</th>\n",
       "      <th>CODE</th>\n",
       "      <th>COUNTRY NAME</th>\n",
       "    </tr>\n",
       "  </thead>\n",
       "  <tbody>\n",
       "    <tr>\n",
       "      <th>0</th>\n",
       "      <td>European Union (EU)</td>\n",
       "      <td>BE</td>\n",
       "      <td>Belgium</td>\n",
       "    </tr>\n",
       "    <tr>\n",
       "      <th>1</th>\n",
       "      <td>European Union (EU)</td>\n",
       "      <td>BG</td>\n",
       "      <td>Bulgaria</td>\n",
       "    </tr>\n",
       "    <tr>\n",
       "      <th>2</th>\n",
       "      <td>European Union (EU)</td>\n",
       "      <td>CZ</td>\n",
       "      <td>Czech</td>\n",
       "    </tr>\n",
       "    <tr>\n",
       "      <th>3</th>\n",
       "      <td>European Union (EU)</td>\n",
       "      <td>DK</td>\n",
       "      <td>Denmark</td>\n",
       "    </tr>\n",
       "    <tr>\n",
       "      <th>4</th>\n",
       "      <td>European Union (EU)</td>\n",
       "      <td>DE</td>\n",
       "      <td>Germany</td>\n",
       "    </tr>\n",
       "  </tbody>\n",
       "</table>\n",
       "</div>"
      ],
      "text/plain": [
       "                  AREA CODE COUNTRY NAME\n",
       "0  European Union (EU)  BE       Belgium\n",
       "1  European Union (EU)  BG      Bulgaria\n",
       "2  European Union (EU)  CZ         Czech\n",
       "3  European Union (EU)  DK       Denmark\n",
       "4  European Union (EU)  DE       Germany"
      ]
     },
     "metadata": {},
     "output_type": "display_data"
    },
    {
     "data": {
      "text/html": [
       "<div>\n",
       "<style scoped>\n",
       "    .dataframe tbody tr th:only-of-type {\n",
       "        vertical-align: middle;\n",
       "    }\n",
       "\n",
       "    .dataframe tbody tr th {\n",
       "        vertical-align: top;\n",
       "    }\n",
       "\n",
       "    .dataframe thead th {\n",
       "        text-align: right;\n",
       "    }\n",
       "</style>\n",
       "<table border=\"1\" class=\"dataframe\">\n",
       "  <thead>\n",
       "    <tr style=\"text-align: right;\">\n",
       "      <th></th>\n",
       "      <th>AREA</th>\n",
       "      <th>CODE</th>\n",
       "      <th>COUNTRY NAME</th>\n",
       "    </tr>\n",
       "  </thead>\n",
       "  <tbody>\n",
       "    <tr>\n",
       "      <th>30</th>\n",
       "      <td>European Free Trade Association (EFTA)</td>\n",
       "      <td>NO</td>\n",
       "      <td>Norway</td>\n",
       "    </tr>\n",
       "    <tr>\n",
       "      <th>31</th>\n",
       "      <td>European Free Trade Association (EFTA)</td>\n",
       "      <td>CH</td>\n",
       "      <td>Switzerland</td>\n",
       "    </tr>\n",
       "    <tr>\n",
       "      <th>32</th>\n",
       "      <td>EU candidate countries</td>\n",
       "      <td>TR</td>\n",
       "      <td>Turkey</td>\n",
       "    </tr>\n",
       "    <tr>\n",
       "      <th>33</th>\n",
       "      <td>European Neighbourhood Policy (ENP)-South</td>\n",
       "      <td>IL</td>\n",
       "      <td>Israel</td>\n",
       "    </tr>\n",
       "    <tr>\n",
       "      <th>34</th>\n",
       "      <td>Other European countries</td>\n",
       "      <td>RU</td>\n",
       "      <td>Russia</td>\n",
       "    </tr>\n",
       "  </tbody>\n",
       "</table>\n",
       "</div>"
      ],
      "text/plain": [
       "                                         AREA CODE COUNTRY NAME\n",
       "30     European Free Trade Association (EFTA)  NO        Norway\n",
       "31     European Free Trade Association (EFTA)  CH   Switzerland\n",
       "32                    EU candidate countries   TR        Turkey\n",
       "33  European Neighbourhood Policy (ENP)-South  IL        Israel\n",
       "34                   Other European countries  RU        Russia"
      ]
     },
     "execution_count": 48,
     "metadata": {},
     "output_type": "execute_result"
    }
   ],
   "source": [
    "# We only care about countries in europe\n",
    "european_comission = european_comission.iloc[1:36].reset_index(drop=True)\n",
    "display(european_comission.head())\n",
    "european_comission.tail()"
   ]
  },
  {
   "cell_type": "code",
   "execution_count": 56,
   "metadata": {},
   "outputs": [],
   "source": [
    "# Now merge both dataframes on a LEFT join where the original countries over 100k pop is on the left\n",
    "european_countries_euflag_over100k = pd.merge(over_100k_pop, european_comission, left_on=\"name\", right_on=\"COUNTRY NAME\", how=\"left\", validate='one_to_one')\\\n",
    "                                        [['name', 'subregion', 'population', 'AREA']]\\\n",
    "                                        .rename(columns={\n",
    "                                            'name':'Country', \n",
    "                                            'subregion': 'Subregion', \n",
    "                                            'population': 'Poplation', \n",
    "                                            'AREA': 'European Union Association'\n",
    "                                            })"
   ]
  },
  {
   "cell_type": "code",
   "execution_count": 58,
   "metadata": {},
   "outputs": [
    {
     "data": {
      "text/plain": [
       "0                                        NaN\n",
       "1                        European Union (EU)\n",
       "2                                        NaN\n",
       "3                        European Union (EU)\n",
       "4                                        NaN\n",
       "5                        European Union (EU)\n",
       "6                        European Union (EU)\n",
       "7                        European Union (EU)\n",
       "8                                        NaN\n",
       "9                        European Union (EU)\n",
       "10                       European Union (EU)\n",
       "11                       European Union (EU)\n",
       "12                       European Union (EU)\n",
       "13                       European Union (EU)\n",
       "14                       European Union (EU)\n",
       "15                       European Union (EU)\n",
       "16    European Free Trade Association (EFTA)\n",
       "17                       European Union (EU)\n",
       "18                       European Union (EU)\n",
       "19                                       NaN\n",
       "20                                       NaN\n",
       "21                       European Union (EU)\n",
       "22                       European Union (EU)\n",
       "23                       European Union (EU)\n",
       "24                       European Union (EU)\n",
       "25                                       NaN\n",
       "26                                       NaN\n",
       "27                       European Union (EU)\n",
       "28                                       NaN\n",
       "29    European Free Trade Association (EFTA)\n",
       "30                       European Union (EU)\n",
       "31                       European Union (EU)\n",
       "32                       European Union (EU)\n",
       "33                            No Association\n",
       "34                                       NaN\n",
       "35                       European Union (EU)\n",
       "36                       European Union (EU)\n",
       "37                       European Union (EU)\n",
       "38                       European Union (EU)\n",
       "39    European Free Trade Association (EFTA)\n",
       "40                                       NaN\n",
       "41                                       NaN\n",
       "Name: European Union Association, dtype: object"
      ]
     },
     "execution_count": 58,
     "metadata": {},
     "output_type": "execute_result"
    }
   ],
   "source": [
    "european_countries_euflag_over100k['European Union Association'].replace(to_replace='Other European countries', value='No Association').fillna(\"No Asso\")"
   ]
  },
  {
   "cell_type": "code",
   "execution_count": 45,
   "metadata": {},
   "outputs": [],
   "source": [
    "over_100k_pop.to_excel(\"countries_over_100k_pop.xlsx\", index=False)"
   ]
  }
 ],
 "metadata": {
  "kernelspec": {
   "display_name": "gus",
   "language": "python",
   "name": "python3"
  },
  "language_info": {
   "codemirror_mode": {
    "name": "ipython",
    "version": 3
   },
   "file_extension": ".py",
   "mimetype": "text/x-python",
   "name": "python",
   "nbconvert_exporter": "python",
   "pygments_lexer": "ipython3",
   "version": "3.12.1"
  }
 },
 "nbformat": 4,
 "nbformat_minor": 2
}
