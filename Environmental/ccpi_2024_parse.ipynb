{
 "cells": [
  {
   "cell_type": "code",
   "execution_count": 24,
   "metadata": {},
   "outputs": [],
   "source": [
    "import pandas as pd\n",
    "import matplotlib.pyplot as plt\n",
    "import re"
   ]
  },
  {
   "cell_type": "code",
   "execution_count": 84,
   "metadata": {},
   "outputs": [],
   "source": [
    "# Function to reformat the match\n",
    "# Returns both parameters seperately\n",
    "def reformat_match(match):\n",
    "    country = match.group(2).strip()  # Ensure any leading/trailing spaces are removed\n",
    "    return country, match.group(3)"
   ]
  },
  {
   "cell_type": "code",
   "execution_count": 139,
   "metadata": {},
   "outputs": [],
   "source": [
    "def text_to_list(text: str):\n",
    "    list_from_text = []\n",
    "    for i in range(2, 69):\n",
    "        start_index = text.find(f'{i - 1}. ')\n",
    "        end_index = text.find(f'{i}. ')\n",
    "\n",
    "        list_from_text.append(text[start_index:end_index])\n",
    "\n",
    "    return list_from_text"
   ]
  },
  {
   "cell_type": "code",
   "execution_count": 141,
   "metadata": {},
   "outputs": [],
   "source": [
    "def text_to_dataframe(path: str, pattern:str, column_name:str):\n",
    "\n",
    "    with open(path, 'r') as f:\n",
    "        ccpi_text = f.read()\n",
    "\n",
    "    # Convert file to list\n",
    "    data_list = text_to_list(ccpi_text)\n",
    "    print(data_list)\n",
    "\n",
    "    # Store data into hashmap, parse data using regex (RegEx written by ChatGPT)\n",
    "    data_dict = {}\n",
    "\n",
    "    # Parse each line in the text\n",
    "    for i in data_list:\n",
    "        # Find matches and reformat\n",
    "        for match in re.finditer(pattern, i):\n",
    "            (country, data) = reformat_match(match)\n",
    "            data_dict[country] = data\n",
    "\n",
    "    return pd.DataFrame.from_dict(data_dict, orient='index', dtype='float64', columns=[column_name])\\\n",
    "        .sort_values(column_name, ascending=False).reset_index(names='Country')\n"
   ]
  },
  {
   "cell_type": "code",
   "execution_count": 101,
   "metadata": {},
   "outputs": [],
   "source": [
    "# Regular expression pattern to capture the desired parts\n",
    "pattern = r'\\d*\\.?\\s*[-\\d]*\\s*[▲▼]?\\s*(new)?([A-Za-z\\s]+(?:\\(\\d+\\))?)\\s*(\\d+\\.\\d+)'"
   ]
  },
  {
   "cell_type": "code",
   "execution_count": 144,
   "metadata": {},
   "outputs": [
    {
     "name": "stdout",
     "output_type": "stream",
     "text": [
      "['1. * –––\\n', '2. –––\\n', '3. –––\\n', '4.       0   – Denmark75.59', '5. 4 ▲Estonia72.07', '6. 6 ▲Philippines70.70', '7. 1 ▲India 70.259', '8. 5 ▲Netherlands69.98', '9. -2 ▼Morocco69.82', '10. -5 ▼Sweden69.39', '11. -5 ▼Chile68.74', '12. -2 ▼Norway 67.48', '13. 1 ▲Portugal67.39', '14. 2 ▲Germany 65.77', '15. 2 ▲Luxembourg65.09', '16. 3 ▲European Union (27)64.71', '17. newNigeria 63.88', '18. 5 ▲Spain63.37', '19. 2 ▲Lithuania62.99', '20. -9 ▼United Kingdom 62.36', '21. 1 ▲Switzerland61.94', '22. -2 ▼Egypt61.80', '23. 15 ▲Brazil 61.74', '24. 19 ▲Romania61.50', '25. 17 ▲Thailand61.38', '26. -11 ▼Finland61.11', '27. 13 ▲Vietnam60.94', '28. -4 ▼Greece60.34', '29. -11 ▼Malta59.80', '30. newPakistan59.35', '31. -4 ▼Colombia58.68', '32.       0   – Austria58.17', '33. -8 ▼Latvia57.68', '34. -1 ▼New Zealand57.66', '35. -5 ▼Croatia57.32', '36. -10 ▼Indonesia 57.20', '37. -9 ▼France57.12', '38. -7 ▼Mexico 55.81', '39.       0   – Belgium55.00', '40. -6 ▼Slovak Republic54.47', '41.       0   – Slovenia53.57', '42. -7 ▼Cyprus53.09', '43. -6 ▼Ireland51.42', '44. -15 ▼Italy50.60', '45. -1 ▼South Africa 49.53', '46. -10 ▼Bulgaria46.94', '47. -1 ▼Belarus46.80', '48. newUzbekistan46.68', '49. 4 ▲Hungary45.93', '50. 5 ▲Australia 45.72', '51.       0  –China 45.56', '52. -7 ▼Czech Republic45.41', '53. -4 ▼Argentina45.39', '54. -6 ▼Algeria44.54', '55. -1 ▼Poland 44.40', '56. -9 ▼Turkey43.82', '57. -5 ▼United States 42.79', '58. -8 ▼Japan42.08', '59. -3 ▼Malaysia38.57', '60. 1 ▲Kazakhstan 38.52', '61. -4 ▼Chinese Taipei36.94', '62. -4 ▼Canada 31.55', '63. -4 ▼Russian Federation 31.00', '64. -4 ▼Republic of Korea29.98', '65. newUnited Arab Emirates 24.55', '66. -3 ▼Islamic Republic of Iran 23.53', '67. -5 ▼Saudi Arabia 19.3']\n"
     ]
    },
    {
     "data": {
      "text/html": [
       "<div>\n",
       "<style scoped>\n",
       "    .dataframe tbody tr th:only-of-type {\n",
       "        vertical-align: middle;\n",
       "    }\n",
       "\n",
       "    .dataframe tbody tr th {\n",
       "        vertical-align: top;\n",
       "    }\n",
       "\n",
       "    .dataframe thead th {\n",
       "        text-align: right;\n",
       "    }\n",
       "</style>\n",
       "<table border=\"1\" class=\"dataframe\">\n",
       "  <thead>\n",
       "    <tr style=\"text-align: right;\">\n",
       "      <th></th>\n",
       "      <th>Country</th>\n",
       "      <th>2024_CCPI_Index</th>\n",
       "    </tr>\n",
       "  </thead>\n",
       "  <tbody>\n",
       "    <tr>\n",
       "      <th>0</th>\n",
       "      <td>Denmark</td>\n",
       "      <td>75.590</td>\n",
       "    </tr>\n",
       "    <tr>\n",
       "      <th>1</th>\n",
       "      <td>Estonia</td>\n",
       "      <td>72.070</td>\n",
       "    </tr>\n",
       "    <tr>\n",
       "      <th>2</th>\n",
       "      <td>Philippines</td>\n",
       "      <td>70.700</td>\n",
       "    </tr>\n",
       "    <tr>\n",
       "      <th>3</th>\n",
       "      <td>India</td>\n",
       "      <td>70.259</td>\n",
       "    </tr>\n",
       "    <tr>\n",
       "      <th>4</th>\n",
       "      <td>Netherlands</td>\n",
       "      <td>69.980</td>\n",
       "    </tr>\n",
       "    <tr>\n",
       "      <th>...</th>\n",
       "      <td>...</td>\n",
       "      <td>...</td>\n",
       "    </tr>\n",
       "    <tr>\n",
       "      <th>59</th>\n",
       "      <td>Russian Federation</td>\n",
       "      <td>31.000</td>\n",
       "    </tr>\n",
       "    <tr>\n",
       "      <th>60</th>\n",
       "      <td>Republic of Korea</td>\n",
       "      <td>29.980</td>\n",
       "    </tr>\n",
       "    <tr>\n",
       "      <th>61</th>\n",
       "      <td>United Arab Emirates</td>\n",
       "      <td>24.550</td>\n",
       "    </tr>\n",
       "    <tr>\n",
       "      <th>62</th>\n",
       "      <td>Islamic Republic of Iran</td>\n",
       "      <td>23.530</td>\n",
       "    </tr>\n",
       "    <tr>\n",
       "      <th>63</th>\n",
       "      <td>Saudi Arabia</td>\n",
       "      <td>19.300</td>\n",
       "    </tr>\n",
       "  </tbody>\n",
       "</table>\n",
       "<p>64 rows × 2 columns</p>\n",
       "</div>"
      ],
      "text/plain": [
       "                     Country  2024_CCPI_Index\n",
       "0                    Denmark           75.590\n",
       "1                    Estonia           72.070\n",
       "2                Philippines           70.700\n",
       "3                      India           70.259\n",
       "4                Netherlands           69.980\n",
       "..                       ...              ...\n",
       "59        Russian Federation           31.000\n",
       "60         Republic of Korea           29.980\n",
       "61      United Arab Emirates           24.550\n",
       "62  Islamic Republic of Iran           23.530\n",
       "63              Saudi Arabia           19.300\n",
       "\n",
       "[64 rows x 2 columns]"
      ]
     },
     "execution_count": 144,
     "metadata": {},
     "output_type": "execute_result"
    }
   ],
   "source": [
    "ccpi_2024 = text_to_dataframe('CCPI-2024-Index.txt', pattern, '2024_CCPI_Index')\n",
    "ccpi_2024"
   ]
  },
  {
   "cell_type": "markdown",
   "metadata": {},
   "source": [
    "We will be ignoring the fact that the CCPI did not rank 3 countries at the top, however, this helps us understand that a benchmark country is indeed needed as even the best countries are not setting enough to hit climate change goals"
   ]
  },
  {
   "cell_type": "code",
   "execution_count": 143,
   "metadata": {},
   "outputs": [
    {
     "name": "stdout",
     "output_type": "stream",
     "text": [
      "['1. ––Very High––––\\n', '2. ––Very High––––\\n', '3. ––Very High––––\\n', '4. Philippines33.75 HighVery highMediumVery highVery high\\n', '5. Sweden32.93 HighVery highHighHighHigh\\n', '6. Chile32.31 HighHighMediumVery highVery high\\n', '7. Luxembourg32.23 HighVery LowVery HighVery highHigh\\n', '8. Nigeria31.51 HighHighMediumVery highVery high\\n', '9. India31.22 HighVery highLowVery highVery high\\n', '10. Morocco31.18 HighHighLowVery highVery high\\n', '11. United Kingdom30.95 HighMediumHighHighHigh\\n', '12. Egypt30.52 HighHighMediumVery highHigh\\n', '13. Thailand30.42 HighHighMediumHighHigh\\n', '14. Romania29.94 HighHighMediumHighHigh\\n', '15. Denmark29.80 HighLowHighMediumHigh\\n', '16. Portugal29.78 HighHighVery HighMediumMedium\\n', '17. Norway29.45 HighMediumHighMediumHigh\\n', '18. Pakistan29.20 HighVery highVery LowVery highHigh\\n', '19. Germany28.47 MediumLowHighMediumHigh\\n', '20. Malta28.39 MediumHighMediumMediumHigh\\n', '21. Mexico27.83 MediumHighLowHighHigh\\n', '22. Spain27.78 MediumMediumHighLowMedium\\n', '23. Switzerland27.77 MediumHighHighMediumMedium\\n', '24. Estonia27.35 MediumVery LowVery highMediumMedium\\n', '25. Slovak Republic27.33 MediumMediumMediumMediumMedium\\n', '26. Netherlands27.24 MediumLowVery HighLowMedium\\n', '27. Lithuania27.23 MediumHighMediumHighMedium\\n', '28. France27.02 MediumMediumHighMediumMedium\\n', '29. European Union (27)26.31 MediumMediumHighMediumMedium\\n', '30. Greece25.73 MediumMediumHighLowLow\\n', '31. Finland25.38 MediumLowVery HighLowLow\\n', '32. Belgium25.29 MediumLowHighLowMedium\\n', '33. Belarus24.92 MediumMediumLowHighMedium\\n', '34. Austria24.43 MediumMediumHighLowLow\\n', '35. Hungary24.30 MediumMediumMediumMediumLow\\n', '36. Slovenia23.37 LowMediumHighLowVery Low\\n', '37. Italy23.20 LowMediumMediumLowLow\\n', '38. Australia23.20 LowVery LowHighMediumHigh\\n', '39. Colombia23.17 LowMediumLowMediumMedium\\n', '40. Cyprus22.90 LowMediumMediumLowMedium\\n', '41. Vietnam22.80 LowHighVery LowHighMedium\\n', '42. Algeria22.54 LowMediumMediumLowLow\\n', '43. Turkey22.34 LowMediumLowMediumLow\\n', '44. New Zealand21.99 LowVery LowHighVery LowMedium\\n', '45. Croatia21.67 LowHighLowLowLow\\n', '46. Japan21.42 LowLowMediumVery LowLow\\n', '47. Uzbekistan21.36 LowMediumMediumMediumVery Low\\n', '48. Bulgaria20.83 LowLowLowLowMedium\\n', '49. South Africa20.77 LowLowMediumVery LowVery Low\\n', '50. Latvia20.52 LowMediumMediumVery LowLow\\n', '51. Poland20.51 LowLowMediumVery LowLow\\n', '52. Brazil20.39 LowLowLowLowLow\\n', '53. Czech Republic20.37 LowVery LowHighLowLow\\n', '54. Ireland20.17 LowVery LowMediumVery LowMedium\\n', '55. Indonesia19.72 LowMediumVery LowMediumMedium\\n', '56. Russian Federation18.85 Very LowVery LowMediumMediumVery Low\\n', '57. Argentina18.77 Very LowLowMediumVery LowVery Low\\n', '58. United States16.88 Very LowVery LowMediumVery LowMedium\\n', '59. Kazakhstan14.66 Very LowVery LowHighVery LowVery Low\\n', '60. Canada14.59 Very LowVery LowHighVery LowLow\\n', '61. Republic of Korea13.96 Very LowVery LowMediumVery LowVery Low\\n', '62. China13.45 Very LowLowVery LowVery LowVery Low\\n', '63. Malaysia13.38 Very LowVery LowLowVery LowVery Low\\n', '64. Chinese Taipei12.65 Very LowVery LowMediumVery LowVery Low\\n', '65. Islamic Republic of Iran7.16 Very LowVery LowVery LowVery LowVery Low\\n', '66. Saudi Arabia4.85 Very LowVery LowMediumVery LowVery Low\\n', '67. United Arab Emirates2.43 Very LowVery LowVery LowVery LowVery L']\n",
      "['1. Indonesia10.83 HighMediumVery highMediumLow\\n1', '', '3. Norway19.12 Very HighVery highVery highVery HighVery High\\n', '4. Sweden15.23 HighVery highMediumHighHigh\\n', '5. Denmark15.01 HighVery highHighHighHigh\\n', '6. Finland13.39 HighVery highMediumHighHigh\\n', '7. Estonia12.67 HighMediumHighMediumVery High\\n', '8. Latvia12.63 HighHighMediumHighHigh\\n', '9. New Zealand12.52 HighVery highLowMediumHigh\\n', '10. Croatia11.63 HighMediumVery highLowLow\\n', '11. Indonesia10.83 HighMediumVery highMediumLow\\n', '12. Netherlands10.59 HighLowVery highLowLow\\n', '13. Brazil10.27 HighVery highLowLowLow\\n', '14. Lithuania9.95 MediumMediumHighMediumMedium\\n', '15. Luxembourg9.50 MediumLowVery highLowLow\\n', '16. China9.06 MediumLowVery highVery LowLow\\n', '17. Chile9.04 MediumHighMediumMediumLow\\n', '18. Bulgaria8.96 MediumLowVery highLowLow\\n', '19. Austria8.92 MediumHighVery LowLowMedium\\n', '20. Portugal8.78 MediumHighMediumLowLow\\n', '21. Vietnam8.64 MediumMediumVery highLowVery Low\\n', '22. Turkey8.40 MediumLowVery highLowVery Low\\n', '23. Greece7.92 MediumLowHighLowLow\\n', '24. Cyprus7.64 MediumLowHighLowLow\\n', '25. Switzerland7.63 MediumMediumMediumLowVery Low\\n', '26. European Union (27)7.46 MediumLowMediumLowLow\\n', '27. Italy7.38 MediumLowLowLowMedium\\n', '28. Germany7.38 MediumLowMediumLowMedium\\n', '29. Slovenia7.21 MediumLowHighVery LowLow\\n', '30. Philippines7.12 MediumHighVery LowVery LowLow\\n', '31. Ireland7.06 MediumLowHighLowLow\\n', '32. Spain6.97 MediumMediumMediumLowLow\\n', '33. Malta6.93 MediumLowHighVery LowLow\\n', '34. Morocco6.67 MediumVery LowVery highVery LowVery Low\\n', '35. Malaysia6.59 MediumVery LowVery highVery LowVery Low\\n', '36. Belgium6.26 MediumLowHighVery LowLow\\n', '37. India6.23 MediumMediumHighLowVery Low\\n', '38. Hungary6.17 LowLowHighVery LowLow\\n', '39. Poland5.79 LowLowHighVery LowLow\\n', '40. Australia5.57 LowLowHighVery LowVery Low\\n', '41. Colombia5.43 LowMediumLowVery LowVery Low\\n', '42. Kazakhstan5.36 LowVery LowVery highVery LowVery Low\\n', '43. Czech Republic5.33 LowLowMediumVery LowLow\\n', '44. United Kingdom5.20 LowLowHighLowVery Low\\n', '45. Romania5.01 LowLowVery LowVery LowLow\\n', '46. Japan5.00 LowLowHighVery LowVery Low\\n', '47. Slovak Republic4.99 LowLowVery LowVery LowLow\\n', '48. France4.55 LowLowMediumVery LowVery Low\\n', '49. Thailand4.52 LowMediumVery LowVery LowVery Low\\n', '50. Argentina4.13 LowLowHighVery LowVery Low\\n', '51. Chinese Taipei3.76 LowVery LowHighVery LowVery Low\\n', '52. Republic of Korea3.46 LowVery LowHighVery LowVery Low\\n', '53. Canada3.40 Very LowMediumVery LowVery LowVery Low\\n', '54. Egypt3.38 Very LowLowHighVery LowVery Low\\n', '55. Nigeria3.24 Very LowLowLowVery LowVery Low\\n', '56. Belarus3.24 Very LowLowHighVery LowVery Low\\n', '57. United Arab Emirates3.15 Very LowVery LowHighVery LowVery Low\\n', '58. Saudi Arabia3.09 Very LowVery LowHighVery LowVery Low\\n', '59. South Africa3.06 Very LowVery LowMediumVery LowVery Low\\n', '60. United States3.03 Very LowLowMediumVery LowVery Low\\n', '61. Pakistan2.86 Very LowLowLowVery LowVery Low\\n', '62. Mexico2.38 Very LowLowMediumVery LowVery Low\\n', '63. Russian Federation2.26 Very LowVery LowHighVery LowVery Low\\n', '64. Algeria2.01 Very LowVery LowHighVery LowVery Low\\n', '65. Islamic Republic of Iran1.94 Very LowVery LowHighVery LowVery Low\\n', '66. Uzbekistan0.28 Very LowVery LowVery LowVery LowVery L', '']\n",
      "['1. Greece16.24 HighHighHighMediumMedium\\n1', '2. Pakistan16.17 HighVery highVery LowVery HighVery High\\n1', '', '4. Philippines17.88 HighVery highMediumVery HighVery High\\n', '5. Colombia17.71 HighVery highMediumHighHigh\\n', '6. Nigeria17.70 HighVery highMediumHighVery High\\n', '7. Egypt17.18 HighVery highMediumHighHigh\\n', '8. United Kingdom16.63 HighMediumHighHighMedium\\n', '9. Mexico16.55 HighVery highHighHighMedium\\n', '10. India16.42 HighVery highLowHighHigh\\n', '11. Greece16.24 HighHighHighMediumMedium\\n', '12. Pakistan16.17 HighVery highVery LowVery HighVery High\\n', '13. Morocco16.06 HighVery highVery LowHighVery High\\n', '14. South Africa15.96 HighHighHighMediumMedium\\n', '15. Thailand15.67 HighHighHighLowMedium\\n', '16. Malta15.64 HighVery highMediumHighMedium\\n', '17. Portugal15.59 HighHighHighLowMedium\\n', '18. Argentina15.33 MediumHighHighLowLow\\n', '19. Estonia15.31 MediumLowVery HighVery HighVery Low\\n', '20. Cyprus15.30 MediumHighMediumMediumMedium\\n', '21. Switzerland15.03 MediumMediumMediumMediumMedium\\n', '22. Brazil14.77 MediumVery highMediumMediumMedium\\n', '23. Romania14.77 MediumHighLowHighHigh\\n', '24. Indonesia14.76 MediumVery highVery LowHighMedium\\n', '25. Spain14.68 MediumMediumHighLowLow\\n', '26. Germany14.54 MediumLowHighLowMedium\\n', '27. Ireland14.11 MediumMediumHighLowMedium\\n', '28. Lithuania14.08 MediumMediumVery LowHighHigh\\n', '29. Algeria13.80 MediumVery highLowLowLow\\n', '30. Belarus13.78 MediumMediumLowMediumHigh\\n', '31. European Union (27)13.72 MediumLowMediumLowMedium\\n', '32. Uzbekistan13.55 MediumVery highVery LowVery HighMedium\\n', '33. Denmark13.53 MediumMediumMediumLowLow\\n', '34. Italy13.52 MediumMediumMediumLowMedium\\n', '35. Netherlands13.48 LowLowHighVery LowMedium\\n', '36. Chile13.41 LowHighMediumVery LowLow\\n', '37. Japan13.15 LowLowHighLowLow\\n', '38. Latvia13.15 LowMediumLowMediumMedium\\n', '39. Hungary12.90 LowMediumLowLowMedium\\n', '40. France12.84 LowLowHighVery LowVery Low\\n', '41. Croatia12.64 LowHighLowLowLow\\n', '42. Slovenia12.35 LowLowHighVery LowVery Low\\n', '43. Vietnam12.10 LowVery highVery LowMediumLow\\n', '44. Bulgaria12.04 LowMediumLowLowLow\\n', '45. Slovak Republic12.04 LowLowLowLowLow\\n', '46. Turkey12.01 LowHighVery LowLowLow\\n', '47. Luxembourg11.84 LowVery LowHighLowLow\\n', '48. Poland11.78 LowMediumLowVery LowLow\\n', '49. New Zealand11.34 Very LowVery LowMediumVery LowVery Low\\n', '50. Malaysia10.99 Very LowMediumLowVery LowVery Low\\n', '51. Austria10.95 Very LowLowMediumVery LowVery Low\\n', '52. Czech Republic10.77 Very LowVery LowMediumVery LowVery Low\\n', '53. Belgium10.55 Very LowVery LowMediumVery LowVery Low\\n', '54. Sweden10.42 Very LowVery LowHighVery LowVery Low\\n', '55. Kazakhstan9.69 Very LowLowMediumLowVery Low\\n', '56. Norway8.96 Very LowVery LowMediumVery LowVery Low\\n', '57. Chinese Taipei8.52 Very LowVery LowMediumVery LowVery Low\\n', '58. Russian Federation8.43 Very LowVery LowVery LowVery LowHigh\\n', '59. Australia8.04 Very LowVery LowMediumVery LowVery Low\\n', '60. Islamic Republic of Iran7.31 Very LowLowVery LowVery LowVery Low\\n', '61. China7.14 Very LowMediumVery LowVery LowVery Low\\n', '62. United States6.69 Very LowVery LowMediumVery LowVery Low\\n', '63. Saudi Arabia6.30 Very LowVery LowHighVery LowVery Low\\n', '64. Republic of Korea5.61 Very LowVery LowMediumVery LowVery Low\\n', '65. Finland4.49 Very LowVery LowMediumVery LowVery Low\\n', '66. United Arab Emirates4.18 Very LowVery LowMediumVery LowVery Low\\n', '67. Canada4.04 Very LowVery LowMediumVery LowVery ']\n",
      "['1. Brazil16.30 MediumMediumHigh\\n1', '2. United States16.20 MediumMediumMedium\\n1', '', '4. Netherlands18.67 MediumMediumHigh\\n', '5. Finland17.86 MediumMediumMedium\\n', '6. Vietnam17.40 MediumMediumMedium\\n', '7. Denmark17.24 MediumMediumHigh\\n', '8. European Union (27)17.22 MediumMediumHigh\\n', '9. Estonia16.74 MediumMediumMedium\\n', '10. India16.38 MediumMediumMedium\\n', '11. Brazil16.30 MediumMediumHigh\\n', '12. United States16.20 MediumMediumMedium\\n', '13. China15.91 MediumMediumMedium\\n', '14. Morocco15.91 MediumMediumMedium\\n', '15. Germany15.39 MediumMediumHigh\\n', '16. United Arab Emirates14.78 MediumMediumMedium\\n', '17. Chile13.98 MediumLowMedium\\n', '18. Spain13.94 MediumLowMedium\\n', '19. Austria13.87 MediumMediumMedium\\n', '20. Portugal13.24 MediumLowMedium\\n', '21. Belgium12.90 MediumLowMedium\\n', '22. France12.71 MediumLowMedium\\n', '23. Colombia12.37 MediumLowMedium\\n', '24. Chinese Taipei12.02 LowLowMedium\\n', '25. Philippines11.95 LowLowMedium\\n', '26. Indonesia11.90 LowLowMedium\\n', '27. New Zealand11.81 LowLowMedium\\n', '28. Romania11.78 LowMediumLow\\n', '29. Lithuania11.73 LowLowLow\\n', '30. Luxembourg11.52 LowLowMedium\\n', '31. Switzerland11.52 LowLowMedium\\n', '32. Uzbekistan11.49 LowLowLow\\n', '33. Nigeria11.43 LowLowMedium\\n', '34. Latvia11.38 LowLowMedium\\n', '35. Croatia11.38 LowLowLow\\n', '36. Pakistan11.12 LowLowMedium\\n', '37. Sweden10.80 LowLowLow\\n', '38. Thailand10.77 LowLowLow\\n', '39. Egypt10.72 LowLowMedium\\n', '40. Slovenia10.64 LowLowMedium\\n', '41. Greece10.45 LowLowMedium\\n', '42. Slovak Republic10.12 LowLowLow\\n', '43. Ireland10.08 LowLowMedium\\n', '44. Norway9.95 LowLowMedium\\n', '45. South Africa9.74 LowLowLow\\n', '46. United Kingdom9.58 LowLowMedium\\n', '47. Canada9.52 LowLowMedium\\n', '48. Mexico9.04 LowLowLow\\n', '49. Czech Republic8.93 LowLowLow\\n', '50. Australia8.90 LowLowLow\\n', '51. Malta8.85 LowLowMedium\\n', '52. Kazakhstan8.80 LowLowLow\\n', '53. Malaysia7.61 LowLowLow\\n', '54. Cyprus7.26 LowLowLow\\n', '55. Argentina7.16 LowLowLow\\n', '56. Islamic Republic of Iran7.12 LowLowLow\\n', '57. Republic of Korea6.95 LowLowLow\\n', '58. Italy6.49 LowLowLow\\n', '59. Poland6.33 LowLowLow\\n', '60. Algeria6.20 LowLowLow\\n', '61. Bulgaria5.11 LowLowLow\\n', '62. Saudi Arabia5.09 Very LowLowVery Low\\n', '63. Belarus4.86 Very LowLowVery Low\\n', '64. Hungary2.56 Very LowVery LowVery Low\\n', '65. Japan2.50 Very LowVery LowVery Low\\n', '66. Russian Federation1.45 Very LowVery LowVery Low\\n', '67. Turkey1.07 Very LowVery LowVery ']\n"
     ]
    }
   ],
   "source": [
    "ccpi_ghg = text_to_dataframe('CCPI-2024-GHG.txt', pattern, '2024_CCPI_GHG')\n",
    "ccpi_renewables = text_to_dataframe('CCPI-2024-Renewables.txt', pattern, '2024_CCPI_Renewables')\n",
    "ccpi_energy_use = text_to_dataframe('CCPI-2024-Energy_Use.txt', pattern, '2024_CCPI_Energy_Use')\n",
    "ccpi_climate_policy = text_to_dataframe('CCPI_2024-Policies.txt', pattern, '2024_CCPI_Climate_Policy')"
   ]
  },
  {
   "cell_type": "code",
   "execution_count": 145,
   "metadata": {},
   "outputs": [
    {
     "name": "stdout",
     "output_type": "stream",
     "text": [
      "['1. ––Very High––––\\n', '2. ––Very High––––\\n', '3. ––Very High––––\\n', '4. Philippines33.75 HighVery highMediumVery highVery high\\n', '5. Sweden32.93 HighVery highHighHighHigh\\n', '6. Chile32.31 HighHighMediumVery highVery high\\n', '7. Luxembourg32.23 HighVery LowVery HighVery highHigh\\n', '8. Nigeria31.51 HighHighMediumVery highVery high\\n', '9. India31.22 HighVery highLowVery highVery high\\n', '10. Morocco31.18 HighHighLowVery highVery high\\n', '11. United Kingdom30.95 HighMediumHighHighHigh\\n', '12. Egypt30.52 HighHighMediumVery highHigh\\n', '13. Thailand30.42 HighHighMediumHighHigh\\n', '14. Romania29.94 HighHighMediumHighHigh\\n', '15. Denmark29.80 HighLowHighMediumHigh\\n', '16. Portugal29.78 HighHighVery HighMediumMedium\\n', '17. Norway29.45 HighMediumHighMediumHigh\\n', '18. Pakistan29.20 HighVery highVery LowVery highHigh\\n', '19. Germany28.47 MediumLowHighMediumHigh\\n', '20. Malta28.39 MediumHighMediumMediumHigh\\n', '21. Mexico27.83 MediumHighLowHighHigh\\n', '22. Spain27.78 MediumMediumHighLowMedium\\n', '23. Switzerland27.77 MediumHighHighMediumMedium\\n', '24. Estonia27.35 MediumVery LowVery highMediumMedium\\n', '25. Slovak Republic27.33 MediumMediumMediumMediumMedium\\n', '26. Netherlands27.24 MediumLowVery HighLowMedium\\n', '27. Lithuania27.23 MediumHighMediumHighMedium\\n', '28. France27.02 MediumMediumHighMediumMedium\\n', '29. European Union (27)26.31 MediumMediumHighMediumMedium\\n', '30. Greece25.73 MediumMediumHighLowLow\\n', '31. Finland25.38 MediumLowVery HighLowLow\\n', '32. Belgium25.29 MediumLowHighLowMedium\\n', '33. Belarus24.92 MediumMediumLowHighMedium\\n', '34. Austria24.43 MediumMediumHighLowLow\\n', '35. Hungary24.30 MediumMediumMediumMediumLow\\n', '36. Slovenia23.37 LowMediumHighLowVery Low\\n', '37. Italy23.20 LowMediumMediumLowLow\\n', '38. Australia23.20 LowVery LowHighMediumHigh\\n', '39. Colombia23.17 LowMediumLowMediumMedium\\n', '40. Cyprus22.90 LowMediumMediumLowMedium\\n', '41. Vietnam22.80 LowHighVery LowHighMedium\\n', '42. Algeria22.54 LowMediumMediumLowLow\\n', '43. Turkey22.34 LowMediumLowMediumLow\\n', '44. New Zealand21.99 LowVery LowHighVery LowMedium\\n', '45. Croatia21.67 LowHighLowLowLow\\n', '46. Japan21.42 LowLowMediumVery LowLow\\n', '47. Uzbekistan21.36 LowMediumMediumMediumVery Low\\n', '48. Bulgaria20.83 LowLowLowLowMedium\\n', '49. South Africa20.77 LowLowMediumVery LowVery Low\\n', '50. Latvia20.52 LowMediumMediumVery LowLow\\n', '51. Poland20.51 LowLowMediumVery LowLow\\n', '52. Brazil20.39 LowLowLowLowLow\\n', '53. Czech Republic20.37 LowVery LowHighLowLow\\n', '54. Ireland20.17 LowVery LowMediumVery LowMedium\\n', '55. Indonesia19.72 LowMediumVery LowMediumMedium\\n', '56. Russian Federation18.85 Very LowVery LowMediumMediumVery Low\\n', '57. Argentina18.77 Very LowLowMediumVery LowVery Low\\n', '58. United States16.88 Very LowVery LowMediumVery LowMedium\\n', '59. Kazakhstan14.66 Very LowVery LowHighVery LowVery Low\\n', '60. Canada14.59 Very LowVery LowHighVery LowLow\\n', '61. Republic of Korea13.96 Very LowVery LowMediumVery LowVery Low\\n', '62. China13.45 Very LowLowVery LowVery LowVery Low\\n', '63. Malaysia13.38 Very LowVery LowLowVery LowVery Low\\n', '64. Chinese Taipei12.65 Very LowVery LowMediumVery LowVery Low\\n', '65. Islamic Republic of Iran7.16 Very LowVery LowVery LowVery LowVery Low\\n', '66. Saudi Arabia4.85 Very LowVery LowMediumVery LowVery Low\\n', '67. United Arab Emirates2.43 Very LowVery LowVery LowVery LowVery L']\n"
     ]
    },
    {
     "data": {
      "text/html": [
       "<div>\n",
       "<style scoped>\n",
       "    .dataframe tbody tr th:only-of-type {\n",
       "        vertical-align: middle;\n",
       "    }\n",
       "\n",
       "    .dataframe tbody tr th {\n",
       "        vertical-align: top;\n",
       "    }\n",
       "\n",
       "    .dataframe thead th {\n",
       "        text-align: right;\n",
       "    }\n",
       "</style>\n",
       "<table border=\"1\" class=\"dataframe\">\n",
       "  <thead>\n",
       "    <tr style=\"text-align: right;\">\n",
       "      <th></th>\n",
       "      <th>Country</th>\n",
       "      <th>2024_CCPI_GHG</th>\n",
       "    </tr>\n",
       "  </thead>\n",
       "  <tbody>\n",
       "    <tr>\n",
       "      <th>0</th>\n",
       "      <td>Philippines</td>\n",
       "      <td>33.75</td>\n",
       "    </tr>\n",
       "    <tr>\n",
       "      <th>1</th>\n",
       "      <td>Sweden</td>\n",
       "      <td>32.93</td>\n",
       "    </tr>\n",
       "    <tr>\n",
       "      <th>2</th>\n",
       "      <td>Chile</td>\n",
       "      <td>32.31</td>\n",
       "    </tr>\n",
       "    <tr>\n",
       "      <th>3</th>\n",
       "      <td>Luxembourg</td>\n",
       "      <td>32.23</td>\n",
       "    </tr>\n",
       "    <tr>\n",
       "      <th>4</th>\n",
       "      <td>Nigeria</td>\n",
       "      <td>31.51</td>\n",
       "    </tr>\n",
       "    <tr>\n",
       "      <th>...</th>\n",
       "      <td>...</td>\n",
       "      <td>...</td>\n",
       "    </tr>\n",
       "    <tr>\n",
       "      <th>59</th>\n",
       "      <td>Malaysia</td>\n",
       "      <td>13.38</td>\n",
       "    </tr>\n",
       "    <tr>\n",
       "      <th>60</th>\n",
       "      <td>Chinese Taipei</td>\n",
       "      <td>12.65</td>\n",
       "    </tr>\n",
       "    <tr>\n",
       "      <th>61</th>\n",
       "      <td>Islamic Republic of Iran</td>\n",
       "      <td>7.16</td>\n",
       "    </tr>\n",
       "    <tr>\n",
       "      <th>62</th>\n",
       "      <td>Saudi Arabia</td>\n",
       "      <td>4.85</td>\n",
       "    </tr>\n",
       "    <tr>\n",
       "      <th>63</th>\n",
       "      <td>United Arab Emirates</td>\n",
       "      <td>2.43</td>\n",
       "    </tr>\n",
       "  </tbody>\n",
       "</table>\n",
       "<p>64 rows × 2 columns</p>\n",
       "</div>"
      ],
      "text/plain": [
       "                     Country  2024_CCPI_GHG\n",
       "0                Philippines          33.75\n",
       "1                     Sweden          32.93\n",
       "2                      Chile          32.31\n",
       "3                 Luxembourg          32.23\n",
       "4                    Nigeria          31.51\n",
       "..                       ...            ...\n",
       "59                  Malaysia          13.38\n",
       "60            Chinese Taipei          12.65\n",
       "61  Islamic Republic of Iran           7.16\n",
       "62              Saudi Arabia           4.85\n",
       "63      United Arab Emirates           2.43\n",
       "\n",
       "[64 rows x 2 columns]"
      ]
     },
     "execution_count": 145,
     "metadata": {},
     "output_type": "execute_result"
    }
   ],
   "source": [
    "text_to_dataframe('CCPI-2024-GHG.txt', pattern, '2024_CCPI_GHG')"
   ]
  },
  {
   "cell_type": "code",
   "execution_count": 146,
   "metadata": {},
   "outputs": [],
   "source": [
    "ccpi_comprehensive_2024 = pd.merge(\n",
    "    ccpi_ghg,\n",
    "    pd.merge(\n",
    "        ccpi_renewables,\n",
    "        pd.merge(\n",
    "            ccpi_energy_use, \n",
    "            ccpi_climate_policy, \n",
    "            on='Country',\n",
    "            how='outer'\n",
    "        ), \n",
    "        on='Country',\n",
    "        how='outer'\n",
    "    ),\n",
    "    on='Country',\n",
    "    how='outer'\n",
    ")"
   ]
  },
  {
   "cell_type": "code",
   "execution_count": 155,
   "metadata": {},
   "outputs": [],
   "source": [
    "# Rename russian federation to russia\n",
    "ccpi_comprehensive_2024.replace(\"Russian Federation\", \"Russia\", inplace=True)"
   ]
  },
  {
   "cell_type": "code",
   "execution_count": 157,
   "metadata": {},
   "outputs": [],
   "source": [
    "ccpi_comprehensive_2024.to_csv('ccpi_2024.csv', index=False)"
   ]
  }
 ],
 "metadata": {
  "kernelspec": {
   "display_name": "gus",
   "language": "python",
   "name": "python3"
  },
  "language_info": {
   "codemirror_mode": {
    "name": "ipython",
    "version": 3
   },
   "file_extension": ".py",
   "mimetype": "text/x-python",
   "name": "python",
   "nbconvert_exporter": "python",
   "pygments_lexer": "ipython3",
   "version": "3.12.1"
  }
 },
 "nbformat": 4,
 "nbformat_minor": 2
}
