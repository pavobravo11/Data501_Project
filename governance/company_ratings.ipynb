{
 "cells": [
  {
   "cell_type": "code",
   "execution_count": 59,
   "metadata": {},
   "outputs": [],
   "source": [
    "import pandas as pd\n",
    "import matplotlib.pyplot as plt\n",
    "import numpy as np"
   ]
  },
  {
   "cell_type": "code",
   "execution_count": 32,
   "metadata": {},
   "outputs": [],
   "source": [
    "almost_black = '#262626'\n",
    "plt.rcParams['text.usetex'] = False\n",
    "plt.rcParams['font.family'] = 'sans-serif'\n",
    "plt.rcParams['font.sans-serif'] = 'Arial'\n",
    "plt.rcParams['axes.edgecolor'] = almost_black\n",
    "plt.rcParams['text.color'] = almost_black\n",
    "plt.rcParams['axes.linewidth'] = 0.5\n",
    "plt.rcParams['axes.labelsize'] = 12"
   ]
  },
  {
   "cell_type": "code",
   "execution_count": 177,
   "metadata": {},
   "outputs": [],
   "source": [
    "company_msci = pd.read_csv(\"esg_ratings.csv\", index_col=0)"
   ]
  },
  {
   "cell_type": "code",
   "execution_count": 178,
   "metadata": {},
   "outputs": [
    {
     "name": "stdout",
     "output_type": "stream",
     "text": [
      "<class 'pandas.core.frame.DataFrame'>\n",
      "Index: 6068 entries, 0 to 6067\n",
      "Data columns (total 9 columns):\n",
      " #   Column                      Non-Null Count  Dtype  \n",
      "---  ------                      --------------  -----  \n",
      " 0   ISSUER_NAME                 6068 non-null   object \n",
      " 1   ISSUER_TICKER               4458 non-null   object \n",
      " 2   ISSUER_CNTRY_DOMICILE_NAME  6068 non-null   object \n",
      " 3   IVA_INDUSTRY                5233 non-null   object \n",
      " 4   GICS_SUB_IND                5276 non-null   object \n",
      " 5   IVA_COMPANY_RATING          2034 non-null   object \n",
      " 6   INDUSTRY_ADJUSTED_SCORE     2034 non-null   float64\n",
      " 7   AGR_RATING                  4828 non-null   object \n",
      " 8   GOVERNANCE_SCORE            2087 non-null   float64\n",
      "dtypes: float64(2), object(7)\n",
      "memory usage: 474.1+ KB\n"
     ]
    }
   ],
   "source": [
    "company_msci.info()"
   ]
  },
  {
   "cell_type": "code",
   "execution_count": 179,
   "metadata": {},
   "outputs": [],
   "source": [
    "# With count aggregation we can explore which countries we have very little data of\n",
    "companies_by_country= company_msci.groupby(\"ISSUER_CNTRY_DOMICILE_NAME\")\\\n",
    "        [['ISSUER_NAME']].size()\\\n",
    "        .sort_values(ascending=False).to_frame()\\\n",
    "        .reset_index()\\\n",
    "        .rename(columns={\n",
    "            'ISSUER_CNTRY_DOMICILE_NAME': 'Country',\n",
    "            0: 'Companies'})"
   ]
  },
  {
   "cell_type": "code",
   "execution_count": 180,
   "metadata": {},
   "outputs": [
    {
     "data": {
      "text/html": [
       "<div>\n",
       "<style scoped>\n",
       "    .dataframe tbody tr th:only-of-type {\n",
       "        vertical-align: middle;\n",
       "    }\n",
       "\n",
       "    .dataframe tbody tr th {\n",
       "        vertical-align: top;\n",
       "    }\n",
       "\n",
       "    .dataframe thead th {\n",
       "        text-align: right;\n",
       "    }\n",
       "</style>\n",
       "<table border=\"1\" class=\"dataframe\">\n",
       "  <thead>\n",
       "    <tr style=\"text-align: right;\">\n",
       "      <th></th>\n",
       "      <th>Companies</th>\n",
       "    </tr>\n",
       "  </thead>\n",
       "  <tbody>\n",
       "    <tr>\n",
       "      <th>count</th>\n",
       "      <td>35.000000</td>\n",
       "    </tr>\n",
       "    <tr>\n",
       "      <th>mean</th>\n",
       "      <td>173.371429</td>\n",
       "    </tr>\n",
       "    <tr>\n",
       "      <th>std</th>\n",
       "      <td>257.414873</td>\n",
       "    </tr>\n",
       "    <tr>\n",
       "      <th>min</th>\n",
       "      <td>3.000000</td>\n",
       "    </tr>\n",
       "    <tr>\n",
       "      <th>25%</th>\n",
       "      <td>21.500000</td>\n",
       "    </tr>\n",
       "    <tr>\n",
       "      <th>50%</th>\n",
       "      <td>79.000000</td>\n",
       "    </tr>\n",
       "    <tr>\n",
       "      <th>75%</th>\n",
       "      <td>222.000000</td>\n",
       "    </tr>\n",
       "    <tr>\n",
       "      <th>max</th>\n",
       "      <td>1359.000000</td>\n",
       "    </tr>\n",
       "  </tbody>\n",
       "</table>\n",
       "</div>"
      ],
      "text/plain": [
       "         Companies\n",
       "count    35.000000\n",
       "mean    173.371429\n",
       "std     257.414873\n",
       "min       3.000000\n",
       "25%      21.500000\n",
       "50%      79.000000\n",
       "75%     222.000000\n",
       "max    1359.000000"
      ]
     },
     "execution_count": 180,
     "metadata": {},
     "output_type": "execute_result"
    }
   ],
   "source": [
    "companies_by_country.describe()"
   ]
  },
  {
   "cell_type": "code",
   "execution_count": 181,
   "metadata": {},
   "outputs": [
    {
     "data": {
      "text/html": [
       "<div>\n",
       "<style scoped>\n",
       "    .dataframe tbody tr th:only-of-type {\n",
       "        vertical-align: middle;\n",
       "    }\n",
       "\n",
       "    .dataframe tbody tr th {\n",
       "        vertical-align: top;\n",
       "    }\n",
       "\n",
       "    .dataframe thead th {\n",
       "        text-align: right;\n",
       "    }\n",
       "</style>\n",
       "<table border=\"1\" class=\"dataframe\">\n",
       "  <thead>\n",
       "    <tr style=\"text-align: right;\">\n",
       "      <th></th>\n",
       "      <th>Country</th>\n",
       "      <th>Companies</th>\n",
       "    </tr>\n",
       "  </thead>\n",
       "  <tbody>\n",
       "    <tr>\n",
       "      <th>0</th>\n",
       "      <td>United Kingdom</td>\n",
       "      <td>1359</td>\n",
       "    </tr>\n",
       "    <tr>\n",
       "      <th>1</th>\n",
       "      <td>Sweden</td>\n",
       "      <td>624</td>\n",
       "    </tr>\n",
       "    <tr>\n",
       "      <th>2</th>\n",
       "      <td>France</td>\n",
       "      <td>522</td>\n",
       "    </tr>\n",
       "    <tr>\n",
       "      <th>3</th>\n",
       "      <td>Germany</td>\n",
       "      <td>474</td>\n",
       "    </tr>\n",
       "    <tr>\n",
       "      <th>4</th>\n",
       "      <td>Italy</td>\n",
       "      <td>302</td>\n",
       "    </tr>\n",
       "  </tbody>\n",
       "</table>\n",
       "</div>"
      ],
      "text/plain": [
       "          Country  Companies\n",
       "0  United Kingdom       1359\n",
       "1          Sweden        624\n",
       "2          France        522\n",
       "3         Germany        474\n",
       "4           Italy        302"
      ]
     },
     "execution_count": 181,
     "metadata": {},
     "output_type": "execute_result"
    }
   ],
   "source": [
    "companies_by_country.head()"
   ]
  },
  {
   "cell_type": "code",
   "execution_count": 182,
   "metadata": {},
   "outputs": [
    {
     "data": {
      "text/html": [
       "<div>\n",
       "<style scoped>\n",
       "    .dataframe tbody tr th:only-of-type {\n",
       "        vertical-align: middle;\n",
       "    }\n",
       "\n",
       "    .dataframe tbody tr th {\n",
       "        vertical-align: top;\n",
       "    }\n",
       "\n",
       "    .dataframe thead th {\n",
       "        text-align: right;\n",
       "    }\n",
       "</style>\n",
       "<table border=\"1\" class=\"dataframe\">\n",
       "  <thead>\n",
       "    <tr style=\"text-align: right;\">\n",
       "      <th></th>\n",
       "      <th>Country</th>\n",
       "      <th>Companies</th>\n",
       "    </tr>\n",
       "  </thead>\n",
       "  <tbody>\n",
       "    <tr>\n",
       "      <th>30</th>\n",
       "      <td>Ukraine</td>\n",
       "      <td>13</td>\n",
       "    </tr>\n",
       "    <tr>\n",
       "      <th>31</th>\n",
       "      <td>Bosnia and Herzegovina</td>\n",
       "      <td>8</td>\n",
       "    </tr>\n",
       "    <tr>\n",
       "      <th>32</th>\n",
       "      <td>Latvia</td>\n",
       "      <td>6</td>\n",
       "    </tr>\n",
       "    <tr>\n",
       "      <th>33</th>\n",
       "      <td>Slovakia</td>\n",
       "      <td>5</td>\n",
       "    </tr>\n",
       "    <tr>\n",
       "      <th>34</th>\n",
       "      <td>Montenegro</td>\n",
       "      <td>3</td>\n",
       "    </tr>\n",
       "  </tbody>\n",
       "</table>\n",
       "</div>"
      ],
      "text/plain": [
       "                   Country  Companies\n",
       "30                 Ukraine         13\n",
       "31  Bosnia and Herzegovina          8\n",
       "32                  Latvia          6\n",
       "33                Slovakia          5\n",
       "34              Montenegro          3"
      ]
     },
     "execution_count": 182,
     "metadata": {},
     "output_type": "execute_result"
    }
   ],
   "source": [
    "companies_by_country.tail()"
   ]
  },
  {
   "cell_type": "code",
   "execution_count": 183,
   "metadata": {},
   "outputs": [
    {
     "data": {
      "image/png": "[encoded data removed]",
      "text/plain": [
       "<Figure size 640x480 with 1 Axes>"
      ]
     },
     "metadata": {},
     "output_type": "display_data"
    }
   ],
   "source": [
    "plt.bar(companies_by_country.Country, companies_by_country.Companies)\n",
    "plt.xticks(rotation=90)\n",
    "\n",
    "plt.show()"
   ]
  },
  {
   "cell_type": "code",
   "execution_count": 214,
   "metadata": {},
   "outputs": [],
   "source": [
    "companies_by_country['size_quantile'] = pd.qcut(companies_by_country['Companies'], 4, labels=['Q1', 'Q2', 'Q3', 'Q4'])"
   ]
  },
  {
   "cell_type": "code",
   "execution_count": 191,
   "metadata": {},
   "outputs": [],
   "source": [
    "from seaborn import boxplot"
   ]
  },
  {
   "cell_type": "code",
   "execution_count": 215,
   "metadata": {},
   "outputs": [],
   "source": [
    "def getQuantileStats(df, value, quantile_column):\n",
    "    quantile_stats = df.groupby(quantile_column, observed=True)[value].agg(['min', 'max', 'mean', 'std'])\n",
    "    return quantile_stats"
   ]
  },
  {
   "cell_type": "code",
   "execution_count": 216,
   "metadata": {},
   "outputs": [
    {
     "data": {
      "text/plain": [
       "{'Q1', 'Q2', 'Q3', 'Q4'}"
      ]
     },
     "execution_count": 216,
     "metadata": {},
     "output_type": "execute_result"
    }
   ],
   "source": [
    "quantiles = set(companies_by_country['size_quantile'])\n",
    "quantiles"
   ]
  },
  {
   "cell_type": "code",
   "execution_count": 220,
   "metadata": {},
   "outputs": [
    {
     "name": "stderr",
     "output_type": "stream",
     "text": [
      "c:\\Users\\gusta\\miniconda3\\envs\\gus\\Lib\\site-packages\\seaborn\\categorical.py:641: FutureWarning: The default of observed=False is deprecated and will be changed to True in a future version of pandas. Pass observed=False to retain current behavior or observed=True to adopt the future default and silence this warning.\n",
      "  grouped_vals = vals.groupby(grouper)\n"
     ]
    },
    {
     "data": {
      "image/png": "[encoded data removed]",
      "text/plain": [
       "<Figure size 640x480 with 1 Axes>"
      ]
     },
     "metadata": {},
     "output_type": "display_data"
    }
   ],
   "source": [
    "boxplot(data=companies_by_country, x='size_quantile', y='Companies')\n",
    "plt.xlabel(\"Quantile\")\n",
    "plt.title(\"Distribution of Companies per Quantile\")\n",
    "plt.show()"
   ]
  },
  {
   "cell_type": "code",
   "execution_count": 218,
   "metadata": {},
   "outputs": [
    {
     "name": "stdout",
     "output_type": "stream",
     "text": [
      "               min   max        mean         std\n",
      "size_quantile                                   \n",
      "Q1               3    19   11.222222    5.868939\n",
      "Q2              24    79   51.444444   19.881594\n",
      "Q3              89   208  152.750000   43.738672\n",
      "Q4             236  1359  475.777778  360.419470\n"
     ]
    }
   ],
   "source": [
    "print(getQuantileStats(companies_by_country, 'Companies', 'size_quantile'))"
   ]
  },
  {
   "cell_type": "code",
   "execution_count": 219,
   "metadata": {},
   "outputs": [
    {
     "data": {
      "text/html": [
       "<div>\n",
       "<style scoped>\n",
       "    .dataframe tbody tr th:only-of-type {\n",
       "        vertical-align: middle;\n",
       "    }\n",
       "\n",
       "    .dataframe tbody tr th {\n",
       "        vertical-align: top;\n",
       "    }\n",
       "\n",
       "    .dataframe thead th {\n",
       "        text-align: right;\n",
       "    }\n",
       "</style>\n",
       "<table border=\"1\" class=\"dataframe\">\n",
       "  <thead>\n",
       "    <tr style=\"text-align: right;\">\n",
       "      <th></th>\n",
       "      <th>Companies</th>\n",
       "    </tr>\n",
       "  </thead>\n",
       "  <tbody>\n",
       "    <tr>\n",
       "      <th>count</th>\n",
       "      <td>35.000000</td>\n",
       "    </tr>\n",
       "    <tr>\n",
       "      <th>mean</th>\n",
       "      <td>173.371429</td>\n",
       "    </tr>\n",
       "    <tr>\n",
       "      <th>std</th>\n",
       "      <td>257.414873</td>\n",
       "    </tr>\n",
       "    <tr>\n",
       "      <th>min</th>\n",
       "      <td>3.000000</td>\n",
       "    </tr>\n",
       "    <tr>\n",
       "      <th>25%</th>\n",
       "      <td>21.500000</td>\n",
       "    </tr>\n",
       "    <tr>\n",
       "      <th>50%</th>\n",
       "      <td>79.000000</td>\n",
       "    </tr>\n",
       "    <tr>\n",
       "      <th>75%</th>\n",
       "      <td>222.000000</td>\n",
       "    </tr>\n",
       "    <tr>\n",
       "      <th>max</th>\n",
       "      <td>1359.000000</td>\n",
       "    </tr>\n",
       "  </tbody>\n",
       "</table>\n",
       "</div>"
      ],
      "text/plain": [
       "         Companies\n",
       "count    35.000000\n",
       "mean    173.371429\n",
       "std     257.414873\n",
       "min       3.000000\n",
       "25%      21.500000\n",
       "50%      79.000000\n",
       "75%     222.000000\n",
       "max    1359.000000"
      ]
     },
     "execution_count": 219,
     "metadata": {},
     "output_type": "execute_result"
    }
   ],
   "source": [
    "companies_by_country.describe()"
   ]
  },
  {
   "cell_type": "markdown",
   "metadata": {},
   "source": [
    "Fairly divided quantiles in terms of number of companies on the Morgan Stanely Platform, where Q5 has the biggest dispersion"
   ]
  },
  {
   "cell_type": "markdown",
   "metadata": {},
   "source": [
    "## Next, take a look at each of the statistics given"
   ]
  },
  {
   "cell_type": "markdown",
   "metadata": {},
   "source": [
    "The IVA rating is the intangible value assessment, it provides a rank based on industry research and analysis of corporate management of environmental and social risk factors. It is used to measure investment risk and opportunity from an ESG lense of each company **Source: MSCI_ESG_IVA.pdf**"
   ]
  },
  {
   "cell_type": "code",
   "execution_count": 234,
   "metadata": {},
   "outputs": [
    {
     "data": {
      "text/html": [
       "<div>\n",
       "<style scoped>\n",
       "    .dataframe tbody tr th:only-of-type {\n",
       "        vertical-align: middle;\n",
       "    }\n",
       "\n",
       "    .dataframe tbody tr th {\n",
       "        vertical-align: top;\n",
       "    }\n",
       "\n",
       "    .dataframe thead th {\n",
       "        text-align: right;\n",
       "    }\n",
       "</style>\n",
       "<table border=\"1\" class=\"dataframe\">\n",
       "  <thead>\n",
       "    <tr style=\"text-align: right;\">\n",
       "      <th></th>\n",
       "      <th>Company</th>\n",
       "      <th>Country</th>\n",
       "      <th>IVA_Rating</th>\n",
       "    </tr>\n",
       "  </thead>\n",
       "  <tbody>\n",
       "    <tr>\n",
       "      <th>0</th>\n",
       "      <td>1&amp;1 AG</td>\n",
       "      <td>Germany</td>\n",
       "      <td>BBB</td>\n",
       "    </tr>\n",
       "    <tr>\n",
       "      <th>1</th>\n",
       "      <td>3I GROUP PLC</td>\n",
       "      <td>United Kingdom</td>\n",
       "      <td>AAA</td>\n",
       "    </tr>\n",
       "    <tr>\n",
       "      <th>2</th>\n",
       "      <td>4finance Holding S.A.</td>\n",
       "      <td>Luxembourg</td>\n",
       "      <td>B</td>\n",
       "    </tr>\n",
       "    <tr>\n",
       "      <th>3</th>\n",
       "      <td>4imprint Group PLC</td>\n",
       "      <td>United Kingdom</td>\n",
       "      <td>AA</td>\n",
       "    </tr>\n",
       "    <tr>\n",
       "      <th>4</th>\n",
       "      <td>50Hertz Transmission GmbH</td>\n",
       "      <td>Germany</td>\n",
       "      <td>AAA</td>\n",
       "    </tr>\n",
       "    <tr>\n",
       "      <th>...</th>\n",
       "      <td>...</td>\n",
       "      <td>...</td>\n",
       "      <td>...</td>\n",
       "    </tr>\n",
       "    <tr>\n",
       "      <th>2029</th>\n",
       "      <td>VERBUND AG</td>\n",
       "      <td>Austria</td>\n",
       "      <td>AAA</td>\n",
       "    </tr>\n",
       "    <tr>\n",
       "      <th>2030</th>\n",
       "      <td>VIENNA INSURANCE GROUP AG Wiener Versicherung ...</td>\n",
       "      <td>Austria</td>\n",
       "      <td>BBB</td>\n",
       "    </tr>\n",
       "    <tr>\n",
       "      <th>2031</th>\n",
       "      <td>Wienerberger AG</td>\n",
       "      <td>Austria</td>\n",
       "      <td>AAA</td>\n",
       "    </tr>\n",
       "    <tr>\n",
       "      <th>2032</th>\n",
       "      <td>ams-OSRAM AG</td>\n",
       "      <td>Austria</td>\n",
       "      <td>BBB</td>\n",
       "    </tr>\n",
       "    <tr>\n",
       "      <th>2033</th>\n",
       "      <td>voestalpine AG</td>\n",
       "      <td>Austria</td>\n",
       "      <td>A</td>\n",
       "    </tr>\n",
       "  </tbody>\n",
       "</table>\n",
       "<p>2034 rows × 3 columns</p>\n",
       "</div>"
      ],
      "text/plain": [
       "                                                Company         Country  \\\n",
       "0                                                1&1 AG         Germany   \n",
       "1                                          3I GROUP PLC  United Kingdom   \n",
       "2                                 4finance Holding S.A.      Luxembourg   \n",
       "3                                    4imprint Group PLC  United Kingdom   \n",
       "4                             50Hertz Transmission GmbH         Germany   \n",
       "...                                                 ...             ...   \n",
       "2029                                         VERBUND AG         Austria   \n",
       "2030  VIENNA INSURANCE GROUP AG Wiener Versicherung ...         Austria   \n",
       "2031                                    Wienerberger AG         Austria   \n",
       "2032                                       ams-OSRAM AG         Austria   \n",
       "2033                                     voestalpine AG         Austria   \n",
       "\n",
       "     IVA_Rating  \n",
       "0           BBB  \n",
       "1           AAA  \n",
       "2             B  \n",
       "3            AA  \n",
       "4           AAA  \n",
       "...         ...  \n",
       "2029        AAA  \n",
       "2030        BBB  \n",
       "2031        AAA  \n",
       "2032        BBB  \n",
       "2033          A  \n",
       "\n",
       "[2034 rows x 3 columns]"
      ]
     },
     "execution_count": 234,
     "metadata": {},
     "output_type": "execute_result"
    }
   ],
   "source": [
    "iva_rating = company_msci.iloc[:, [0, 2, 5]].dropna()\\\n",
    "    .rename(columns=\n",
    "            {\n",
    "                \"ISSUER_NAME\": 'Company',\n",
    "                \"ISSUER_CNTRY_DOMICILE_NAME\": 'Country',\n",
    "                \"IVA_COMPANY_RATING\": 'IVA_Rating'\n",
    "            }).reset_index(drop=True)\n",
    "iva_rating"
   ]
  },
  {
   "cell_type": "code",
   "execution_count": 239,
   "metadata": {},
   "outputs": [
    {
     "data": {
      "text/plain": [
       "['A', 'AA', 'AAA', 'B', 'BB', 'BBB', 'CCC']"
      ]
     },
     "execution_count": 239,
     "metadata": {},
     "output_type": "execute_result"
    }
   ],
   "source": [
    "set(iva_rating['IVA_Rating'])"
   ]
  },
  {
   "cell_type": "markdown",
   "metadata": {},
   "source": [
    "Now we will give the letter scores a value, such that:<br>\n",
    "AAA = 10 <br>\n",
    "AA = 9 <br>\n",
    "A = 8 <br>\n",
    "BBB = 7 <br>\n",
    "BB = 6 <br>\n",
    "B = 5 <br>\n",
    "CCC = 4 <br>"
   ]
  },
  {
   "cell_type": "code",
   "execution_count": 244,
   "metadata": {},
   "outputs": [],
   "source": [
    "iva_rating_dictionary = {\n",
    "    'AAA': 10,\n",
    "    'AA': 9,\n",
    "    'A': 8,\n",
    "    'BBB': 7,\n",
    "    'BB': 6,\n",
    "    'B': 5,\n",
    "    'CCC': 4,\n",
    "    'CC': 3,\n",
    "    'C': 2,\n",
    "    'DDD': 1\n",
    "}"
   ]
  },
  {
   "cell_type": "code",
   "execution_count": 245,
   "metadata": {},
   "outputs": [],
   "source": [
    "iva_rating['iva_adjusted'] = iva_rating['IVA_Rating'].map(iva_rating_dictionary)"
   ]
  },
  {
   "cell_type": "markdown",
   "metadata": {},
   "source": [
    "For the sake of consistency, we will not be looking out countries that have **less than 10 companies**. This is to prevent a few companies from skewing the data"
   ]
  },
  {
   "cell_type": "code",
   "execution_count": 260,
   "metadata": {},
   "outputs": [
    {
     "data": {
      "text/html": [
       "<div>\n",
       "<style scoped>\n",
       "    .dataframe tbody tr th:only-of-type {\n",
       "        vertical-align: middle;\n",
       "    }\n",
       "\n",
       "    .dataframe tbody tr th {\n",
       "        vertical-align: top;\n",
       "    }\n",
       "\n",
       "    .dataframe thead th {\n",
       "        text-align: right;\n",
       "    }\n",
       "</style>\n",
       "<table border=\"1\" class=\"dataframe\">\n",
       "  <thead>\n",
       "    <tr style=\"text-align: right;\">\n",
       "      <th></th>\n",
       "      <th>Country</th>\n",
       "      <th>count</th>\n",
       "      <th>mean</th>\n",
       "      <th>median</th>\n",
       "      <th>std</th>\n",
       "    </tr>\n",
       "  </thead>\n",
       "  <tbody>\n",
       "    <tr>\n",
       "      <th>0</th>\n",
       "      <td>Austria</td>\n",
       "      <td>36</td>\n",
       "      <td>7.861111</td>\n",
       "      <td>8.0</td>\n",
       "      <td>1.437315</td>\n",
       "    </tr>\n",
       "    <tr>\n",
       "      <th>1</th>\n",
       "      <td>Belgium</td>\n",
       "      <td>52</td>\n",
       "      <td>7.961538</td>\n",
       "      <td>8.0</td>\n",
       "      <td>1.251846</td>\n",
       "    </tr>\n",
       "    <tr>\n",
       "      <th>6</th>\n",
       "      <td>Denmark</td>\n",
       "      <td>54</td>\n",
       "      <td>8.444444</td>\n",
       "      <td>9.0</td>\n",
       "      <td>1.207940</td>\n",
       "    </tr>\n",
       "    <tr>\n",
       "      <th>8</th>\n",
       "      <td>Finland</td>\n",
       "      <td>48</td>\n",
       "      <td>8.979167</td>\n",
       "      <td>9.0</td>\n",
       "      <td>1.061704</td>\n",
       "    </tr>\n",
       "    <tr>\n",
       "      <th>9</th>\n",
       "      <td>France</td>\n",
       "      <td>175</td>\n",
       "      <td>8.165714</td>\n",
       "      <td>8.0</td>\n",
       "      <td>1.282496</td>\n",
       "    </tr>\n",
       "  </tbody>\n",
       "</table>\n",
       "</div>"
      ],
      "text/plain": [
       "   Country  count      mean  median       std\n",
       "0  Austria     36  7.861111     8.0  1.437315\n",
       "1  Belgium     52  7.961538     8.0  1.251846\n",
       "6  Denmark     54  8.444444     9.0  1.207940\n",
       "8  Finland     48  8.979167     9.0  1.061704\n",
       "9   France    175  8.165714     8.0  1.282496"
      ]
     },
     "execution_count": 260,
     "metadata": {},
     "output_type": "execute_result"
    }
   ],
   "source": [
    "agg_iva = iva_rating.groupby('Country', as_index=False)['iva_adjusted'].agg(['count', 'mean', 'median', 'std']).query('count >= 10')\n",
    "agg_iva.head()"
   ]
  },
  {
   "cell_type": "code",
   "execution_count": 276,
   "metadata": {},
   "outputs": [
    {
     "data": {
      "text/plain": [
       "Text(0, 0.5, 'MSCI Intagible Value Assessment')"
      ]
     },
     "execution_count": 276,
     "metadata": {},
     "output_type": "execute_result"
    },
    {
     "data": {
      "image/png": "[encoded data removed]",
      "text/plain": [
       "<Figure size 1000x600 with 1 Axes>"
      ]
     },
     "metadata": {},
     "output_type": "display_data"
    }
   ],
   "source": [
    "plt.figure(figsize=(10,6))\n",
    "boxplot(data=iva_rating, x='Country', y='iva_adjusted')\n",
    "\n",
    "plt.xticks(rotation=90)\n",
    "plt.ylabel(\"MSCI Intagible Value Assessment\")"
   ]
  }
 ],
 "metadata": {
  "kernelspec": {
   "display_name": "gus",
   "language": "python",
   "name": "python3"
  },
  "language_info": {
   "codemirror_mode": {
    "name": "ipython",
    "version": 3
   },
   "file_extension": ".py",
   "mimetype": "text/x-python",
   "name": "python",
   "nbconvert_exporter": "python",
   "pygments_lexer": "ipython3",
   "version": "3.12.1"
  }
 },
 "nbformat": 4,
 "nbformat_minor": 2
}
